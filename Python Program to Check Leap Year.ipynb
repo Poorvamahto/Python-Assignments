{
 "cells": [
  {
   "cell_type": "markdown",
   "id": "51239822",
   "metadata": {},
   "source": [
    "# Python Program to Check Leap Year"
   ]
  },
  {
   "cell_type": "code",
   "execution_count": 1,
   "id": "62698a3c",
   "metadata": {},
   "outputs": [
    {
     "name": "stdout",
     "output_type": "stream",
     "text": [
      "Enter year = 2016\n",
      "Input Year is a Leap Year\n"
     ]
    }
   ],
   "source": [
    "Year=int(input(\"Enter year = \"))\n",
    "if Year%100==0:\n",
    "    if Year%400==0:\n",
    "        print(\"Input year is a Century year which is a Leap year\")\n",
    "    else:\n",
    "        print(\"Input year is a Century year but not a Leap year\")\n",
    "elif Year %4 ==0:\n",
    "    print(\"Input Year is a Leap Year\")\n",
    "else:\n",
    "    print(\"Input year is not a Leap Year\")"
   ]
  }
 ],
 "metadata": {
  "kernelspec": {
   "display_name": "Python 3 (ipykernel)",
   "language": "python",
   "name": "python3"
  },
  "language_info": {
   "codemirror_mode": {
    "name": "ipython",
    "version": 3
   },
   "file_extension": ".py",
   "mimetype": "text/x-python",
   "name": "python",
   "nbconvert_exporter": "python",
   "pygments_lexer": "ipython3",
   "version": "3.9.12"
  }
 },
 "nbformat": 4,
 "nbformat_minor": 5
}
