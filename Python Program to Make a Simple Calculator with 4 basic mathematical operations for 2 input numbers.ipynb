{
 "cells": [
  {
   "cell_type": "markdown",
   "id": "68e9619e",
   "metadata": {},
   "source": [
    "# Python Program to Make a Simple Calculator with 4 basic mathematical operations"
   ]
  },
  {
   "cell_type": "code",
   "execution_count": 1,
   "id": "f6bb9a46",
   "metadata": {},
   "outputs": [
    {
     "name": "stdout",
     "output_type": "stream",
     "text": [
      "Enter first number : 13\n",
      "Enter second number : 5\n",
      "Press A to add\n",
      "Press P for Product\n",
      "Press D to Divide\n",
      "Press S to Substract\n",
      "Enter what operation you want to perform A/P/D/S : P\n",
      "Product : 65\n"
     ]
    }
   ],
   "source": [
    "x=int(input(\"Enter first number : \"))\n",
    "y=int(input(\"Enter second number : \"))\n",
    "print(\"Press A to add\")\n",
    "print(\"Press P for Product\")\n",
    "print(\"Press D to Divide\")\n",
    "print(\"Press S to Substract\")\n",
    "Math_operation=input(\"Enter what operation you want to perform A/P/D/S : \")\n",
    "\n",
    "if Math_operation=='A':\n",
    "    print(\"Sum : {} \".format(x+y))\n",
    "if Math_operation=='P':   \n",
    "    print(\"Product : {}\".format(x*y))\n",
    "if Math_operation=='D':\n",
    "    print(\"Quotient : {} \".format(y/x))\n",
    "if Math_operation=='S':\n",
    "    print(\"Substraction : {}\".format(y-x))\n"
   ]
  },
  {
   "cell_type": "code",
   "execution_count": null,
   "id": "2c715190",
   "metadata": {},
   "outputs": [],
   "source": []
  }
 ],
 "metadata": {
  "kernelspec": {
   "display_name": "Python 3 (ipykernel)",
   "language": "python",
   "name": "python3"
  },
  "language_info": {
   "codemirror_mode": {
    "name": "ipython",
    "version": 3
   },
   "file_extension": ".py",
   "mimetype": "text/x-python",
   "name": "python",
   "nbconvert_exporter": "python",
   "pygments_lexer": "ipython3",
   "version": "3.9.12"
  }
 },
 "nbformat": 4,
 "nbformat_minor": 5
}
