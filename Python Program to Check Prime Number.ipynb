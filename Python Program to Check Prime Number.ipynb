{
 "cells": [
  {
   "cell_type": "markdown",
   "id": "1bea7b05",
   "metadata": {},
   "source": [
    "# Python Program to Check Prime Number"
   ]
  },
  {
   "cell_type": "code",
   "execution_count": 1,
   "id": "1f440805",
   "metadata": {},
   "outputs": [
    {
     "name": "stdout",
     "output_type": "stream",
     "text": [
      "Enter your number = 11\n",
      "Input Number is a Prime Number\n"
     ]
    }
   ],
   "source": [
    "Number=int(input(\"Enter your number = \"))\n",
    "if (Number==2 or Number==3 or Number==5 or Number==7) or (Number %2 !=0 and Number % 3 !=0 and Number % 5 !=0 and Number % 7 !=0):\n",
    "    print(\"Input Number is a Prime Number\")\n",
    "else:\n",
    "    print(\"Input Number is not a Prime Number\")"
   ]
  }
 ],
 "metadata": {
  "kernelspec": {
   "display_name": "Python 3 (ipykernel)",
   "language": "python",
   "name": "python3"
  },
  "language_info": {
   "codemirror_mode": {
    "name": "ipython",
    "version": 3
   },
   "file_extension": ".py",
   "mimetype": "text/x-python",
   "name": "python",
   "nbconvert_exporter": "python",
   "pygments_lexer": "ipython3",
   "version": "3.9.12"
  }
 },
 "nbformat": 4,
 "nbformat_minor": 5
}
