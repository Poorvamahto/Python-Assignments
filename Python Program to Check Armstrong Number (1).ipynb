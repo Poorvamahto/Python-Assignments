{
 "cells": [
  {
   "cell_type": "markdown",
   "id": "a2acf852",
   "metadata": {},
   "source": [
    "# Python Program to Check Armstrong Number"
   ]
  },
  {
   "cell_type": "code",
   "execution_count": 1,
   "id": "122418ba",
   "metadata": {},
   "outputs": [
    {
     "name": "stdout",
     "output_type": "stream",
     "text": [
      "Enter the positive number for which you want to check if it Armstrong Number   : 1634\n",
      "Yes,it is an Armstrong Number \n"
     ]
    }
   ],
   "source": [
    "import math\n",
    "input_number=(input(\"Enter the positive number for which you want to check if it Armstrong Number   : \"))\n",
    "list_new=[]\n",
    "for i in input_number:\n",
    "    list_new.append(i)\n",
    "list_new2=[]\n",
    "for j in list_new:\n",
    "    list_new2.append(math.pow(int(j),len(list_new)))\n",
    "sum=0\n",
    "for k in list_new2:\n",
    "    sum=sum+k\n",
    "if sum==int(input_number):\n",
    "    print(\"Yes,it is an Armstrong Number \")\n",
    "else:\n",
    "    print(\"No it is not an Armstrong Number\")"
   ]
  }
 ],
 "metadata": {
  "kernelspec": {
   "display_name": "Python 3 (ipykernel)",
   "language": "python",
   "name": "python3"
  },
  "language_info": {
   "codemirror_mode": {
    "name": "ipython",
    "version": 3
   },
   "file_extension": ".py",
   "mimetype": "text/x-python",
   "name": "python",
   "nbconvert_exporter": "python",
   "pygments_lexer": "ipython3",
   "version": "3.9.12"
  }
 },
 "nbformat": 4,
 "nbformat_minor": 5
}
