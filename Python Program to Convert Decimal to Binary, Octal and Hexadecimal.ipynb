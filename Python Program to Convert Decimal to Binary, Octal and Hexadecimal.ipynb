{
 "cells": [
  {
   "cell_type": "markdown",
   "id": "838f2c94",
   "metadata": {},
   "source": [
    "# Python Program to Convert Decimal to Binary, Octal and Hexadecimal?"
   ]
  },
  {
   "cell_type": "code",
   "execution_count": 1,
   "id": "6d1e69b8",
   "metadata": {},
   "outputs": [
    {
     "name": "stdout",
     "output_type": "stream",
     "text": [
      "Enter your integer number : 16666\n",
      "Enter B to convert your decimal number to Binary\n",
      "Enter O to convert your decimal number to Octal\n",
      "Enter H to convert your decimal number to Hexadecimal\n",
      "Enter B/O/H: H\n",
      "Decimal to Hexadecimal [4, 1, 1, 'A']\n"
     ]
    }
   ],
   "source": [
    "number_input=int(input(\"Enter your integer number : \"))\n",
    "print(\"Enter B to convert your decimal number to Binary\")\n",
    "print(\"Enter O to convert your decimal number to Octal\")\n",
    "print(\"Enter H to convert your decimal number to Hexadecimal\")\n",
    "Conversion=input(\"Enter B/O/H: \")\n",
    "def decimal_to_binary(number_input):\n",
    "    lb=[]\n",
    "    while int(number_input/2)>0:\n",
    "        lb.append(number_input%2)\n",
    "        number_input=int(number_input/2)\n",
    "    lb.insert(0,number_input)\n",
    "    return lb\n",
    "\n",
    "def decimal_to_octal(number_input):\n",
    "    lb8=[]\n",
    "    while int(number_input/8)>0:\n",
    "        lb8.append(number_input%8)\n",
    "        number_input=int(number_input/8)\n",
    "    lb_08=lb8[::-1]\n",
    "    lb_08.insert(0,number_input)\n",
    "    return lb_08\n",
    "decimal_to_octal(number_input)\n",
    "\n",
    "def decimal_to_hexadecimal(number_input):\n",
    "    lb8=[]\n",
    "    while int(number_input/16)>0:\n",
    "        lb8.append(number_input%16)\n",
    "        number_input=int(number_input/16)\n",
    "    lb_16=lb8[::-1]\n",
    "    lb_16.insert(0,number_input)\n",
    "    for i in range(len(lb_16)):\n",
    "        if lb_16[i]==10:\n",
    "            lb_16[i]='A'\n",
    "        if lb_16[i]==11:\n",
    "            lb_16[i]='B'\n",
    "        if lb_16[i]==12:\n",
    "            lb_16[i]='C'\n",
    "        if lb_16[i]==13:\n",
    "            lb_16[i]='D'\n",
    "        if lb_16[i]==14:\n",
    "            lb_16[i]='E'\n",
    "        if lb_16[i]==15:\n",
    "            lb_16[i]='F'\n",
    "    return lb_16\n",
    "if Conversion=='B':\n",
    "    print('Decimal to Binary',decimal_to_binary(number_input))\n",
    "if Conversion=='O':\n",
    "    print('Decimal to Octal',decimal_to_octal(number_input))\n",
    "if Conversion=='H':\n",
    "    print('Decimal to Hexadecimal',decimal_to_hexadecimal(number_input))"
   ]
  }
 ],
 "metadata": {
  "kernelspec": {
   "display_name": "Python 3 (ipykernel)",
   "language": "python",
   "name": "python3"
  },
  "language_info": {
   "codemirror_mode": {
    "name": "ipython",
    "version": 3
   },
   "file_extension": ".py",
   "mimetype": "text/x-python",
   "name": "python",
   "nbconvert_exporter": "python",
   "pygments_lexer": "ipython3",
   "version": "3.9.12"
  }
 },
 "nbformat": 4,
 "nbformat_minor": 5
}
