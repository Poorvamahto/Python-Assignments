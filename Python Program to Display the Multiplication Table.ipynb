{
 "cells": [
  {
   "cell_type": "markdown",
   "id": "ecdf3a4e",
   "metadata": {},
   "source": [
    "# Python Program to Display the Multiplication Table"
   ]
  },
  {
   "cell_type": "code",
   "execution_count": 1,
   "id": "1b5be606",
   "metadata": {},
   "outputs": [
    {
     "name": "stdout",
     "output_type": "stream",
     "text": [
      "Enter the number for which you want multiplication table  : 9\n",
      "9*1= 9\n",
      "9*2= 18\n",
      "9*3= 27\n",
      "9*4= 36\n",
      "9*5= 45\n",
      "9*6= 54\n",
      "9*7= 63\n",
      "9*8= 72\n",
      "9*9= 81\n",
      "9*10= 90\n"
     ]
    }
   ],
   "source": [
    "user_input=int(input(\"Enter the number for which you want multiplication table  : \"))\n",
    "\n",
    "for i in range(1,11):\n",
    "    print(\"{}*{}=\".format(user_input,i),user_input*i)"
   ]
  },
  {
   "cell_type": "code",
   "execution_count": null,
   "id": "885b6de7",
   "metadata": {},
   "outputs": [],
   "source": []
  }
 ],
 "metadata": {
  "kernelspec": {
   "display_name": "Python 3 (ipykernel)",
   "language": "python",
   "name": "python3"
  },
  "language_info": {
   "codemirror_mode": {
    "name": "ipython",
    "version": 3
   },
   "file_extension": ".py",
   "mimetype": "text/x-python",
   "name": "python",
   "nbconvert_exporter": "python",
   "pygments_lexer": "ipython3",
   "version": "3.9.12"
  }
 },
 "nbformat": 4,
 "nbformat_minor": 5
}
