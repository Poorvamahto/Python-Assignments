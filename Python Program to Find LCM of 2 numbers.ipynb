{
 "cells": [
  {
   "cell_type": "markdown",
   "id": "d6b8e815",
   "metadata": {},
   "source": [
    "# Python Program to Find LCM of 2 numbers"
   ]
  },
  {
   "cell_type": "code",
   "execution_count": 1,
   "id": "cef259d2",
   "metadata": {},
   "outputs": [
    {
     "name": "stdout",
     "output_type": "stream",
     "text": [
      "Enter first number : 8\n",
      "Enter second number : 12\n",
      "LCM of given number is :  24\n"
     ]
    }
   ],
   "source": [
    "firstnum=int(input(\"Enter first number : \"))\n",
    "secondnum=int(input(\"Enter second number : \"))\n",
    "def find_LCM(firstnum,secondnum):\n",
    "    if (secondnum%firstnum)==0:\n",
    "        print(\"LCM of given number is : \",secondnum)\n",
    "    if firstnum%secondnum==0:\n",
    "            print(\"LCM of given number is : \",firstnum)\n",
    "    if (firstnum%secondnum!=0)& (secondnum%firstnum!=0) :\n",
    "        if firstnum>secondnum:\n",
    "            for i in range(secondnum,(secondnum*firstnum)+1):\n",
    "                if i%firstnum==0 and i%secondnum==0:\n",
    "                    print(\"LCM of given number is : \",i)\n",
    "                    break\n",
    "        if firstnum<secondnum:\n",
    "            for i in range(firstnum,(secondnum*firstnum)+1):\n",
    "                if i%firstnum==0 and i%secondnum==0:\n",
    "                    print(\"LCM of given number is : \",i)\n",
    "                    break\n",
    "        \n",
    "        \n",
    "\n",
    "find_LCM(firstnum,secondnum)  "
   ]
  }
 ],
 "metadata": {
  "kernelspec": {
   "display_name": "Python 3 (ipykernel)",
   "language": "python",
   "name": "python3"
  },
  "language_info": {
   "codemirror_mode": {
    "name": "ipython",
    "version": 3
   },
   "file_extension": ".py",
   "mimetype": "text/x-python",
   "name": "python",
   "nbconvert_exporter": "python",
   "pygments_lexer": "ipython3",
   "version": "3.9.12"
  }
 },
 "nbformat": 4,
 "nbformat_minor": 5
}
