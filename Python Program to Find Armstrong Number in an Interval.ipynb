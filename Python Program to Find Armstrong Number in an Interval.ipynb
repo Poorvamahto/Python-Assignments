{
 "cells": [
  {
   "cell_type": "markdown",
   "id": "dbb37707",
   "metadata": {},
   "source": [
    "# Python Program to Find Armstrong Number in an Interval"
   ]
  },
  {
   "cell_type": "code",
   "execution_count": 1,
   "id": "68d8986f",
   "metadata": {},
   "outputs": [
    {
     "name": "stdout",
     "output_type": "stream",
     "text": [
      "Enter interval starting value : 0\n",
      "Enter interval ending value : 1700\n",
      "Your Armstrong number series for given interval is :  [0, 1, 2, 3, 4, 5, 6, 7, 8, 9, 153, 370, 371, 407, 1634]\n"
     ]
    }
   ],
   "source": [
    "import math\n",
    "start=input(\"Enter interval starting value : \")\n",
    "end=input(\"Enter interval ending value : \")\n",
    "def check_an(input_number):\n",
    "    \n",
    "    list_new=[]\n",
    "    for i in input_number:\n",
    "        list_new.append(i)\n",
    "    list_new2=[]\n",
    "    for j in list_new:\n",
    "        list_new2.append(math.pow(int(j),len(list_new)))\n",
    "    sum=0\n",
    "    for k in list_new2:\n",
    "        sum=sum+k\n",
    "    if sum==int(input_number):\n",
    "        return sum\n",
    "    else:\n",
    "        return(\"No\")\n",
    "list=[]\n",
    "for i in range(int(start),int(end)+1):\n",
    "    if type(check_an(str(i)))==float:\n",
    "        list.append(i)\n",
    "print(\"Your Armstrong number series for given interval is : \",list)"
   ]
  }
 ],
 "metadata": {
  "kernelspec": {
   "display_name": "Python 3 (ipykernel)",
   "language": "python",
   "name": "python3"
  },
  "language_info": {
   "codemirror_mode": {
    "name": "ipython",
    "version": 3
   },
   "file_extension": ".py",
   "mimetype": "text/x-python",
   "name": "python",
   "nbconvert_exporter": "python",
   "pygments_lexer": "ipython3",
   "version": "3.9.12"
  }
 },
 "nbformat": 4,
 "nbformat_minor": 5
}
